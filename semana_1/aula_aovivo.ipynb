{
 "cells": [
  {
   "cell_type": "markdown",
   "id": "32600998",
   "metadata": {},
   "source": [
    "# Exercício\n",
    "\n",
    "Construa um programa que:\n",
    " - Pergunte a usuária 2 números inteiros;\n",
    " - Crie uma lista numérica do intervalo;\n",
    " - Se o número for divisível por 3, substitua-o por \"Tecnologia\";\n",
    " - Se o número for divisível por 5, substitua-o por \"Cívica\";\n",
    " - Se o número for divisível por 3 e 5, substitua-o por \"Tecnologia Cívica\"."
   ]
  },
  {
   "cell_type": "code",
   "execution_count": 1,
   "id": "7a05fd6e",
   "metadata": {},
   "outputs": [
    {
     "name": "stdout",
     "output_type": "stream",
     "text": [
      "Digite um número inteiro: 5\n"
     ]
    }
   ],
   "source": [
    "num_a = int(input('Digite um número inteiro: '))"
   ]
  },
  {
   "cell_type": "code",
   "execution_count": 2,
   "id": "59d4dbad",
   "metadata": {},
   "outputs": [
    {
     "name": "stdout",
     "output_type": "stream",
     "text": [
      "Digite outro número inteiro maior que o anterior: 10\n"
     ]
    }
   ],
   "source": [
    "num_b = int(input('Digite outro número inteiro maior que o anterior: '))"
   ]
  },
  {
   "cell_type": "code",
   "execution_count": 3,
   "id": "b6c85e70",
   "metadata": {},
   "outputs": [],
   "source": [
    "lista = []\n",
    "for numero in range(num_a, num_b):\n",
    "    if numero % 3 == 0 and numero % 5 == 0:\n",
    "        lista.append('Tecnologia Cívica')\n",
    "    elif numero % 5 == 0:\n",
    "        lista.append('Cívica')\n",
    "    elif numero % 3 == 0:\n",
    "        lista.append('Tecnologia')\n",
    "    else:\n",
    "        lista.append(numero)"
   ]
  },
  {
   "cell_type": "code",
   "execution_count": 4,
   "id": "8b688143",
   "metadata": {},
   "outputs": [
    {
     "name": "stdout",
     "output_type": "stream",
     "text": [
      "['Cívica', 'Tecnologia', 7, 8, 'Tecnologia']\n"
     ]
    }
   ],
   "source": [
    "print(lista)"
   ]
  },
  {
   "cell_type": "code",
   "execution_count": null,
   "id": "d48e7d8e",
   "metadata": {},
   "outputs": [],
   "source": []
  }
 ],
 "metadata": {
  "kernelspec": {
   "display_name": "Python 3",
   "language": "python",
   "name": "python3"
  },
  "language_info": {
   "codemirror_mode": {
    "name": "ipython",
    "version": 3
   },
   "file_extension": ".py",
   "mimetype": "text/x-python",
   "name": "python",
   "nbconvert_exporter": "python",
   "pygments_lexer": "ipython3",
   "version": "3.8.8"
  }
 },
 "nbformat": 4,
 "nbformat_minor": 5
}
