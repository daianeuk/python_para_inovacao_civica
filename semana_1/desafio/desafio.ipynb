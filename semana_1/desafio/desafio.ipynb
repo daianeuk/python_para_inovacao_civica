{
 "cells": [
  {
   "cell_type": "markdown",
   "id": "97a2694e",
   "metadata": {},
   "source": [
    "### Dicas\n",
    "\n",
    "*   Antes de ir pro código, leia a descrição do desafio e busque definir pequenos passos para chegar a solução.  \n",
    "*   Leia o código para se familiarizar com a solução que está em desenvolvimento;\n",
    "\n",
    "*  Tente entender o que o código faz ou significa. \n",
    "\n",
    "*  Busque encontrar as partes que faltam ser colocadas e erros no código que precisam ser corrigidos;\n",
    "\n",
    "*  Se aparecer erros, procure corrigir e/ou repita os passos acima.\n",
    "\n",
    "\n",
    "\n",
    "# 1. Desafio: dicionário\n",
    "\n",
    "Utilizando o conhecimento que obtivemos essa semana, utilize o Google Colab ou o Jupyter Notebook  para fazer um programa que consiga responder às seguintes perguntas:\n",
    "\n",
    "1. Quantas pessoas candidatas no estado de Pernambuco seriam mais novas do que você?\n",
    "2. Quantos porcentos isso representa em relação ao total de pessoas candidatas?\n",
    "\n",
    "Dica: Use como referência a coluna \"NR_IDADE_DATA_POSSE\" do conjunto de dados \"consulta_cand_2020_PE_desafio1.csv\"\n",
    "\n",
    "\n",
    "> Fonte: TSE. Repositório de dados eleitorais. Conjunto de dados [Candidatos - 2020](https://www.tse.jus.br/eleicoes/estatisticas/repositorio-de-dados-eleitorais-1)"
   ]
  },
  {
   "cell_type": "markdown",
   "id": "623268b2",
   "metadata": {},
   "source": [
    "### Importe as bibliotecas que usuará no código"
   ]
  },
  {
   "cell_type": "code",
   "execution_count": 1,
   "id": "287a13e3",
   "metadata": {},
   "outputs": [],
   "source": [
    "from csv import reader\n",
    "from datetime import date as dt"
   ]
  },
  {
   "cell_type": "markdown",
   "id": "bfc5092a",
   "metadata": {},
   "source": [
    "### Determine sua idade"
   ]
  },
  {
   "cell_type": "code",
   "execution_count": 2,
   "id": "acb8de62",
   "metadata": {
    "scrolled": true
   },
   "outputs": [
    {
     "name": "stdout",
     "output_type": "stream",
     "text": [
      "Qual seu ano de nascimento? (YYYY)1992\n"
     ]
    }
   ],
   "source": [
    "ano_atual = dt.today().year\n",
    "ano_nasc = int(input('Qual seu ano de nascimento? (YYYY)'))"
   ]
  },
  {
   "cell_type": "code",
   "execution_count": 4,
   "id": "d28073c7",
   "metadata": {},
   "outputs": [
    {
     "name": "stdout",
     "output_type": "stream",
     "text": [
      "29\n"
     ]
    }
   ],
   "source": [
    "idade = ano_atual - ano_nasc \n",
    "print(idade)"
   ]
  },
  {
   "cell_type": "markdown",
   "id": "4ae99d52",
   "metadata": {},
   "source": [
    "### Leia o csv e converta para dicionário"
   ]
  },
  {
   "cell_type": "code",
   "execution_count": 8,
   "id": "ad03e5a6",
   "metadata": {},
   "outputs": [],
   "source": [
    "lista_linhas = []\n",
    "\n",
    "with open('consulta_cand_2020_PE_desafio.csv', 'r', encoding='latin_1') as candidatas: # abre o arquivo csv\n",
    "    csv_linhas = reader(candidatas) # cria um objeto iterável sobre as linhas do csv\n",
    "    lista_linhas = list(csv_linhas) # converte o objeto em uma lista\n",
    "   #  print(lista_linhas) \n"
   ]
  },
  {
   "cell_type": "code",
   "execution_count": 9,
   "id": "3a405ad7",
   "metadata": {},
   "outputs": [],
   "source": [
    "chaves = lista_linhas.pop(0)"
   ]
  },
  {
   "cell_type": "code",
   "execution_count": 10,
   "id": "036bffbb",
   "metadata": {},
   "outputs": [],
   "source": [
    "lista_dicionarios = [] \n",
    "\n",
    "for candidata in lista_linhas:\n",
    "    dicionario_zip = zip(chaves, candidata) \n",
    "    dicionario = dict(dicionario_zip) \n",
    "    lista_dicionarios.append(dicionario)"
   ]
  },
  {
   "cell_type": "markdown",
   "id": "6dfee1eb",
   "metadata": {},
   "source": [
    "###  Quantas pessoas candidatas no estado de Pernambuco seriam mais novas do que você "
   ]
  },
  {
   "cell_type": "code",
   "execution_count": 12,
   "id": "af79eec9",
   "metadata": {},
   "outputs": [
    {
     "name": "stdout",
     "output_type": "stream",
     "text": [
      "1614\n"
     ]
    }
   ],
   "source": [
    "total_candidaturas = len(lista_dicionarios)\n",
    "qnt_candidaturas_mais_jovens = 0\n",
    "\n",
    "for candidatura in lista_dicionarios:\n",
    "    if int(candidatura['NR_IDADE_DATA_POSSE']) < idade:\n",
    "        qnt_candidaturas_mais_jovens += 1\n",
    "        \n",
    "print(qnt_candidaturas_mais_jovens)"
   ]
  },
  {
   "cell_type": "markdown",
   "id": "68ce6ce5",
   "metadata": {},
   "source": [
    "### Quantos porcentos isso representa em relação ao total de pessoas candidatas."
   ]
  },
  {
   "cell_type": "code",
   "execution_count": 15,
   "id": "336e0593",
   "metadata": {},
   "outputs": [
    {
     "name": "stdout",
     "output_type": "stream",
     "text": [
      "Existiram 1614 candidatas mais jovens do que eu nas eleições de 2020 em Pernambuco. O que corresponde a 7.648926591156817% do total das candidaturas\n"
     ]
    }
   ],
   "source": [
    "percentual = (qnt_candidaturas_mais_jovens * 100)/total_candidaturas\n",
    "percentual_2_digitos = round(percentual, 2)\n",
    "\n",
    "print(f'Existiram {qnt_candidaturas_mais_jovens} candidatas mais jovens do que eu nas eleições de 2020 em Pernambuco. O que corresponde a {percentual}% do total das candidaturas')"
   ]
  },
  {
   "cell_type": "code",
   "execution_count": null,
   "id": "b5396c21",
   "metadata": {},
   "outputs": [],
   "source": []
  }
 ],
 "metadata": {
  "kernelspec": {
   "display_name": "Python 3",
   "language": "python",
   "name": "python3"
  },
  "language_info": {
   "codemirror_mode": {
    "name": "ipython",
    "version": 3
   },
   "file_extension": ".py",
   "mimetype": "text/x-python",
   "name": "python",
   "nbconvert_exporter": "python",
   "pygments_lexer": "ipython3",
   "version": "3.8.8"
  }
 },
 "nbformat": 4,
 "nbformat_minor": 5
}
