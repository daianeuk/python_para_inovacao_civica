{
 "cells": [
  {
   "cell_type": "markdown",
   "id": "c8b2cccd",
   "metadata": {},
   "source": [
    "### Dicas\n",
    "\n",
    "*   Antes de ir pro código, leia a descrição do desafio e busque definir pequenos passos para chegar a solução.  \n",
    "*   Leia o código para se familiarizar com a solução que está em desenvolvimento;\n",
    "\n",
    "*  Tente entender o que o código faz ou significa. \n",
    "\n",
    "*  Busque encontrar as partes que faltam ser colocadas e erros no código que precisam ser corrigidos;\n",
    "\n",
    "*  Se aparecer erros, procure corrigir e/ou repita os passos acima.\n",
    "\n",
    "\n",
    "\n",
    "# 1. Desafio: dicionário\n",
    "\n",
    "Utilizando o conhecimento que obtivemos essa semana, utilize o Google Colab ou o Jupyter Notebook  para fazer um programa que consiga responder às seguintes perguntas:\n",
    "\n",
    "1. Quantas pessoas candidatas no estado de Pernambuco seriam mais novas do que você?\n",
    "2. Quantos porcentos isso representa em relação ao total de pessoas candidatas?\n",
    "\n",
    "Dica: Use como referência a coluna \"NR_IDADE_DATA_POSSE\" do conjunto de dados \"consulta_cand_2020_PE_desafio1.csv\"\n",
    "\n",
    "> Fonte: TSE. Repositório de dados eleitorais. Conjunto de dados [Candidatos - 2020](https://www.tse.jus.br/eleicoes/estatisticas/repositorio-de-dados-eleitorais-1)"
   ]
  },
  {
   "cell_type": "markdown",
   "id": "c25a0459",
   "metadata": {},
   "source": [
    "# Resolução\n",
    "\n",
    "Usaremos as bibliotecas csv e datetime nesse projeto"
   ]
  },
  {
   "cell_type": "code",
   "execution_count": 1,
   "id": "b29aef15",
   "metadata": {},
   "outputs": [],
   "source": [
    "from csv import reader\n",
    "from datetime import date as dt"
   ]
  },
  {
   "cell_type": "markdown",
   "id": "e3af8b01",
   "metadata": {},
   "source": [
    "Primeiro, descobriremos a idade atual da usuária desse sistema"
   ]
  },
  {
   "cell_type": "code",
   "execution_count": 2,
   "id": "1c6db2a1",
   "metadata": {},
   "outputs": [],
   "source": [
    "ano_atual = dt.today().year # determina o ano atual\n",
    "\n",
    "ano_nascimento = int(input('Qual o ano do seu nascimento (YYYY)? ')) # solicita a usuária o ano do seu nascimento"
   ]
  },
  {
   "cell_type": "code",
   "execution_count": 3,
   "id": "3679d3ec",
   "metadata": {},
   "outputs": [],
   "source": [
    "idade = ano_atual - ano_nascimento # descobre a idade atual da usuária"
   ]
  },
  {
   "cell_type": "markdown",
   "id": "f056bf19",
   "metadata": {},
   "source": [
    "Agora, vamos ler o arquivo csv das candidaturas em Pernambuco"
   ]
  },
  {
   "cell_type": "code",
   "execution_count": null,
   "id": "55176746",
   "metadata": {},
   "outputs": [],
   "source": [
    "lista_linhas = []\n",
    "\n",
    "with open('consulta_cand_2020_PE_desafio1.csv', 'r', encoding='latin_1') as candidatas: # abre o arquivo csv\n",
    "    csv_linhas = reader(candidatas) # cria um objeto iterável sobre as linhas do csv\n",
    "    lista_linhas = list(csv_linhas) # converte o objeto em uma lista\n",
    "   #  print(lista_linhas) "
   ]
  },
  {
   "cell_type": "markdown",
   "id": "0a892e23",
   "metadata": {},
   "source": [
    "Salvaremos o cabeçalho do csv, que corresponde ao item 0 da lista_linhas, em uma variável"
   ]
  },
  {
   "cell_type": "code",
   "execution_count": 11,
   "id": "0d06ffc3",
   "metadata": {},
   "outputs": [],
   "source": [
    "chaves = lista_linhas.pop(0) # salva a lista index 0 na variável \"chaves\" e apaga-a da lista original"
   ]
  },
  {
   "cell_type": "markdown",
   "id": "c407b3d8",
   "metadata": {},
   "source": [
    "A solução que usaremos para identificar a idade de cada candidatura, será converter cada lista em um dicionário, sendo a chave o título da coluna do valor correspondente."
   ]
  },
  {
   "cell_type": "code",
   "execution_count": 17,
   "id": "5fa7b8d0",
   "metadata": {},
   "outputs": [],
   "source": [
    "lista_dicionarios = [] # cria uma lista vazia\n",
    "\n",
    "for candidata in lista_linhas:\n",
    "    dicionario_zip = zip(chaves, candidata) # cria tuplas usando as listas \"chaves\" e \"candidata\"\n",
    "    dicionario = dict(dicionario_zip) # converte as listas de tuplas em dicionários\n",
    "    lista_dicionarios.append(dicionario) # insere o dicionário na lista \"lista_dicionarios\""
   ]
  },
  {
   "cell_type": "code",
   "execution_count": 18,
   "id": "efa7ddf9",
   "metadata": {},
   "outputs": [
    {
     "name": "stdout",
     "output_type": "stream",
     "text": [
      "[{'ANO_ELEICAO': '2020', 'NM_UE': 'GAMELEIRA', 'DS_CARGO': 'VEREADOR', 'NM_CANDIDATO': 'ANDREIA LÚCIA DE FREITAS PEIXOTO', 'SG_PARTIDO': 'PP', 'NR_IDADE_DATA_POSSE': '52', 'CD_GENERO': '4', 'DS_GENERO': 'FEMININO', 'DS_COR_RACA': 'BRANCA', 'VR_DESPESA_MAX_CAMPANHA': '12307.75'}, {'ANO_ELEICAO': '2020', 'NM_UE': 'CABO DE SANTO AGOSTINHO', 'DS_CARGO': 'VEREADOR', 'NM_CANDIDATO': 'MIZAEL JOSÉ DA SILVA', 'SG_PARTIDO': 'PDT', 'NR_IDADE_DATA_POSSE': '40', 'CD_GENERO': '2', 'DS_GENERO': 'MASCULINO', 'DS_COR_RACA': 'PARDA', 'VR_DESPESA_MAX_CAMPANHA': '109902.99'}, {'ANO_ELEICAO': '2020', 'NM_UE': 'TUPARETAMA', 'DS_CARGO': 'VEREADOR', 'NM_CANDIDATO': 'CARLOS ANTONIO NOGUEIRA', 'SG_PARTIDO': 'PSB', 'NR_IDADE_DATA_POSSE': '53', 'CD_GENERO': '2', 'DS_GENERO': 'MASCULINO', 'DS_COR_RACA': 'PARDA', 'VR_DESPESA_MAX_CAMPANHA': '12307.75'}, {'ANO_ELEICAO': '2020', 'NM_UE': 'GRAVATÁ', 'DS_CARGO': 'VEREADOR', 'NM_CANDIDATO': 'JOSÉ SOARES DA SILVA', 'SG_PARTIDO': 'PTC', 'NR_IDADE_DATA_POSSE': '43', 'CD_GENERO': '2', 'DS_GENERO': 'MASCULINO', 'DS_COR_RACA': 'BRANCA', 'VR_DESPESA_MAX_CAMPANHA': '134612.46'}, {'ANO_ELEICAO': '2020', 'NM_UE': 'SERRITA', 'DS_CARGO': 'VEREADOR', 'NM_CANDIDATO': 'MARIA ZULEIDE DOMINGOS', 'SG_PARTIDO': 'PSD', 'NR_IDADE_DATA_POSSE': '48', 'CD_GENERO': '4', 'DS_GENERO': 'FEMININO', 'DS_COR_RACA': 'PARDA', 'VR_DESPESA_MAX_CAMPANHA': '12307.75'}, {'ANO_ELEICAO': '2020', 'NM_UE': 'GRAVATÁ', 'DS_CARGO': 'VEREADOR', 'NM_CANDIDATO': 'AMARO JOÃO DOS SANTOS', 'SG_PARTIDO': 'PV', 'NR_IDADE_DATA_POSSE': '49', 'CD_GENERO': '2', 'DS_GENERO': 'MASCULINO', 'DS_COR_RACA': 'PARDA', 'VR_DESPESA_MAX_CAMPANHA': '134612.46'}]\n"
     ]
    }
   ],
   "source": [
    "print(lista_dicionarios[:6]) # imprime os 6 primeiros elementos da lista"
   ]
  },
  {
   "cell_type": "code",
   "execution_count": 21,
   "id": "b28bc668",
   "metadata": {},
   "outputs": [
    {
     "name": "stdout",
     "output_type": "stream",
     "text": [
      "3461\n"
     ]
    }
   ],
   "source": [
    "qnt_total_candidaturas = len(lista_dicionarios) # salva na variável a quantidade de elementos da \"lista_dicionarios\"\n",
    "qnt_candidaturas_mais_jovens = 0 # estabelece um contador zerado\n",
    "\n",
    "for candidatura in lista_dicionarios:\n",
    "    if int(candidatura['NR_IDADE_DATA_POSSE']) < idade: # converte para inteiro o valor da chave 'NR_IDADE_DATA_POSSE' e compara com a idade da usuária\n",
    "        qnt_candidaturas_mais_jovens += 1 # soma 1 no contador\n",
    "\n",
    "print(qnt_candidaturas_mais_jovens)"
   ]
  },
  {
   "cell_type": "code",
   "execution_count": 22,
   "id": "0f3126d6",
   "metadata": {},
   "outputs": [
    {
     "name": "stdout",
     "output_type": "stream",
     "text": [
      "Existiram 3461 candidatas mais jovens do que eu nas eleições de 2020 em Pernambuco. O que corresponde a 16.402066252784227% do total das candidaturas\n"
     ]
    }
   ],
   "source": [
    "percentual = (qnt_candidaturas_mais_jovens * 100)/qnt_total_candidaturas\n",
    "percentual_2_digitos = round(percentual, 2)\n",
    "\n",
    "print(f'Existiram {qnt_candidaturas_mais_jovens} candidatas mais jovens do que eu nas eleições de 2020 em Pernambuco. O que corresponde a {percentual}% do total das candidaturas')"
   ]
  }
 ],
 "metadata": {
  "interpreter": {
   "hash": "916dbcbb3f70747c44a77c7bcd40155683ae19c65e1c03b4aa3499c5328201f1"
  },
  "kernelspec": {
   "display_name": "Python 3",
   "language": "python",
   "name": "python3"
  },
  "language_info": {
   "codemirror_mode": {
    "name": "ipython",
    "version": 3
   },
   "file_extension": ".py",
   "mimetype": "text/x-python",
   "name": "python",
   "nbconvert_exporter": "python",
   "pygments_lexer": "ipython3",
   "version": "3.8.8"
  }
 },
 "nbformat": 4,
 "nbformat_minor": 5
}
